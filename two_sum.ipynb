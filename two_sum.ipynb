{
  "nbformat": 4,
  "nbformat_minor": 0,
  "metadata": {
    "colab": {
      "provenance": [],
      "authorship_tag": "ABX9TyOkjPZ0zhDpFult6SXCR2NV",
      "include_colab_link": true
    },
    "kernelspec": {
      "name": "python3",
      "display_name": "Python 3"
    },
    "language_info": {
      "name": "python"
    }
  },
  "cells": [
    {
      "cell_type": "markdown",
      "metadata": {
        "id": "view-in-github",
        "colab_type": "text"
      },
      "source": [
        "<a href=\"https://colab.research.google.com/github/galudSla/leet-code/blob/main/two_sum.ipynb\" target=\"_parent\"><img src=\"https://colab.research.google.com/assets/colab-badge.svg\" alt=\"Open In Colab\"/></a>"
      ]
    },
    {
      "cell_type": "code",
      "execution_count": 1,
      "metadata": {
        "id": "SNreQjmI2Bg0",
        "colab": {
          "base_uri": "https://localhost:8080/"
        },
        "outputId": "3a7bbde7-e518-4204-d0d8-ba571461f2ae"
      },
      "outputs": [
        {
          "output_type": "stream",
          "name": "stdout",
          "text": [
            "[0, 1]\n",
            "[1, 2]\n",
            "[0, 1]\n"
          ]
        }
      ],
      "source": [
        "from typing import List\n",
        "\n",
        "class Solution:\n",
        "    def twoSum(self, nums: List[int], target: int) -> List[int]:\n",
        "        num_map = {}\n",
        "\n",
        "        for i, num in enumerate(nums):\n",
        "            complement = target - num\n",
        "            if complement in num_map:\n",
        "                return [num_map[complement], i]\n",
        "            num_map[num] = i\n",
        "        return []\n",
        "\n",
        "\n",
        "sol = Solution()\n",
        "result1 = sol.twoSum([2, 7, 11, 15], 9)\n",
        "result2 = sol.twoSum([3, 2, 4], 6)\n",
        "result3 = sol.twoSum([3, 3], 6)\n",
        "\n",
        "print(result1)\n",
        "print(result2)\n",
        "print(result3)"
      ]
    }
  ]
}