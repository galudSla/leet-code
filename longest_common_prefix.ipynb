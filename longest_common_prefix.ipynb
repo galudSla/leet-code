{
  "nbformat": 4,
  "nbformat_minor": 0,
  "metadata": {
    "colab": {
      "provenance": [],
      "authorship_tag": "ABX9TyNLLlesK4Jj8lCY41CLwASv",
      "include_colab_link": true
    },
    "kernelspec": {
      "name": "python3",
      "display_name": "Python 3"
    },
    "language_info": {
      "name": "python"
    }
  },
  "cells": [
    {
      "cell_type": "markdown",
      "metadata": {
        "id": "view-in-github",
        "colab_type": "text"
      },
      "source": [
        "<a href=\"https://colab.research.google.com/github/galudSla/leet-code/blob/main/longest_common_prefix.ipynb\" target=\"_parent\"><img src=\"https://colab.research.google.com/assets/colab-badge.svg\" alt=\"Open In Colab\"/></a>"
      ]
    },
    {
      "cell_type": "code",
      "execution_count": null,
      "metadata": {
        "id": "H_tc76PKDvlI"
      },
      "outputs": [],
      "source": [
        "from typing import List\n",
        "class Solution:\n",
        "    def longestCommonPrefix(self, strs: List[str]) -> str:\n",
        "        strs = sorted(strs, key=len)\n",
        "        for index in range(len(strs[0])):\n",
        "            for item in range(1, len(strs)):\n",
        "                if strs[0][index] != strs[item][index]:\n",
        "                    if index == 0:\n",
        "                        return \"\"\n",
        "                    else:\n",
        "                        return strs[0][:index]\n",
        "\n",
        "\n",
        "class Solution1:\n",
        "    def longestCommonPrefix(self, strs: List[str]) -> str:\n",
        "        strs = sorted(strs)\n",
        "        for i,k in enumerate(strs[0]):\n",
        "            if k != strs[-1][i]:\n",
        "                if i ==0:\n",
        "                    return \"\"\n",
        "                else:\n",
        "                    return strs[0][:i]"
      ]
    },
    {
      "cell_type": "code",
      "source": [
        "sol = Solution1()\n",
        "sol.longestCommonPrefix([\"flower\",\"flow\",\"flight\"])"
      ],
      "metadata": {
        "colab": {
          "base_uri": "https://localhost:8080/",
          "height": 35
        },
        "id": "PuuXv-XXlQKt",
        "outputId": "ee9968a4-622f-47d5-c7cc-0350d822acdc"
      },
      "execution_count": null,
      "outputs": [
        {
          "output_type": "execute_result",
          "data": {
            "text/plain": [
              "'fl'"
            ],
            "application/vnd.google.colaboratory.intrinsic+json": {
              "type": "string"
            }
          },
          "metadata": {},
          "execution_count": 51
        }
      ]
    }
  ]
}