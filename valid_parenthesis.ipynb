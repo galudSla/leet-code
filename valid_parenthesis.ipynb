{
  "nbformat": 4,
  "nbformat_minor": 0,
  "metadata": {
    "colab": {
      "provenance": [],
      "authorship_tag": "ABX9TyMK/cNCs3LSX5JGwAr4IpF5",
      "include_colab_link": true
    },
    "kernelspec": {
      "name": "python3",
      "display_name": "Python 3"
    },
    "language_info": {
      "name": "python"
    }
  },
  "cells": [
    {
      "cell_type": "markdown",
      "metadata": {
        "id": "view-in-github",
        "colab_type": "text"
      },
      "source": [
        "<a href=\"https://colab.research.google.com/github/galudSla/leet-code/blob/main/valid_parenthesis.ipynb\" target=\"_parent\"><img src=\"https://colab.research.google.com/assets/colab-badge.svg\" alt=\"Open In Colab\"/></a>"
      ]
    },
    {
      "cell_type": "code",
      "execution_count": 38,
      "metadata": {
        "colab": {
          "base_uri": "https://localhost:8080/"
        },
        "id": "QSvGemfb0w9c",
        "outputId": "064d15c9-564a-40e6-ebde-6264dc746690"
      },
      "outputs": [
        {
          "output_type": "stream",
          "name": "stdout",
          "text": [
            "False\n",
            "True\n"
          ]
        }
      ],
      "source": [
        "class Solution:\n",
        "    def isValid(self, s: str) -> bool:\n",
        "        stack = []\n",
        "        hashMap = {'(':')', '[':']', '{':'}'}\n",
        "        for i in s:\n",
        "            if i in hashMap:\n",
        "                stack.append(i)\n",
        "            elif i == hashMap[stack[-1]]:\n",
        "                stack.pop()\n",
        "            else:\n",
        "                return False\n",
        "        return len(stack) == 0\n",
        "\n",
        "\n",
        "\n",
        "sol = Solution()\n",
        "print(sol.isValid('[([)]'))\n",
        "print(sol.isValid('[()]'))"
      ]
    }
  ]
}